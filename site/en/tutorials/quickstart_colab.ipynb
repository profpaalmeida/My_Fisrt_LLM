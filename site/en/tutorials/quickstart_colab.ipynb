{
  "cells": [
    {
      "cell_type": "markdown",
      "metadata": {
        "id": "view-in-github",
        "colab_type": "text"
      },
      "source": [
        "<a href=\"https://colab.research.google.com/github/profpaalmeida/My_Fisrt_LLM/blob/main/site/en/tutorials/quickstart_colab.ipynb\" target=\"_parent\"><img src=\"https://colab.research.google.com/assets/colab-badge.svg\" alt=\"Open In Colab\"/></a>"
      ]
    },
    {
      "cell_type": "code",
      "source": [
        "!pip install -q -U google-generativeai"
      ],
      "metadata": {
        "id": "m7AoPNRWEcRi"
      },
      "execution_count": 2,
      "outputs": []
    },
    {
      "cell_type": "code",
      "source": [
        "# Import the Python SDK\n",
        "import google.generativeai as genai\n",
        "from google.colab import userdata\n",
        "api_key = userdata.get(\"secret_key\")\n",
        "genai.configure(api_key=api_key)"
      ],
      "metadata": {
        "colab": {
          "base_uri": "https://localhost:8080/",
          "height": 315
        },
        "id": "m4ZuD4oIEo-8",
        "outputId": "73d9fd29-6516-477a-d3cf-60a78fdb4ea1"
      },
      "execution_count": 32,
      "outputs": [
        {
          "output_type": "error",
          "ename": "SecretNotFoundError",
          "evalue": "Secret secret_key does not exist.",
          "traceback": [
            "\u001b[0;31m---------------------------------------------------------------------------\u001b[0m",
            "\u001b[0;31mSecretNotFoundError\u001b[0m                       Traceback (most recent call last)",
            "\u001b[0;32m<ipython-input-32-7f323d38fab5>\u001b[0m in \u001b[0;36m<cell line: 4>\u001b[0;34m()\u001b[0m\n\u001b[1;32m      2\u001b[0m \u001b[0;32mimport\u001b[0m \u001b[0mgoogle\u001b[0m\u001b[0;34m.\u001b[0m\u001b[0mgenerativeai\u001b[0m \u001b[0;32mas\u001b[0m \u001b[0mgenai\u001b[0m\u001b[0;34m\u001b[0m\u001b[0;34m\u001b[0m\u001b[0m\n\u001b[1;32m      3\u001b[0m \u001b[0;32mfrom\u001b[0m \u001b[0mgoogle\u001b[0m\u001b[0;34m.\u001b[0m\u001b[0mcolab\u001b[0m \u001b[0;32mimport\u001b[0m \u001b[0muserdata\u001b[0m\u001b[0;34m\u001b[0m\u001b[0;34m\u001b[0m\u001b[0m\n\u001b[0;32m----> 4\u001b[0;31m \u001b[0mapi_key\u001b[0m \u001b[0;34m=\u001b[0m \u001b[0muserdata\u001b[0m\u001b[0;34m.\u001b[0m\u001b[0mget\u001b[0m\u001b[0;34m(\u001b[0m\u001b[0;34m\"secret_key\"\u001b[0m\u001b[0;34m)\u001b[0m\u001b[0;34m\u001b[0m\u001b[0;34m\u001b[0m\u001b[0m\n\u001b[0m\u001b[1;32m      5\u001b[0m \u001b[0mgenai\u001b[0m\u001b[0;34m.\u001b[0m\u001b[0mconfigure\u001b[0m\u001b[0;34m(\u001b[0m\u001b[0mapi_key\u001b[0m\u001b[0;34m=\u001b[0m\u001b[0mapi_key\u001b[0m\u001b[0;34m)\u001b[0m\u001b[0;34m\u001b[0m\u001b[0;34m\u001b[0m\u001b[0m\n",
            "\u001b[0;32m/usr/local/lib/python3.10/dist-packages/google/colab/userdata.py\u001b[0m in \u001b[0;36mget\u001b[0;34m(key)\u001b[0m\n\u001b[1;32m     51\u001b[0m     )\n\u001b[1;32m     52\u001b[0m   \u001b[0;32mif\u001b[0m \u001b[0;32mnot\u001b[0m \u001b[0mresp\u001b[0m\u001b[0;34m.\u001b[0m\u001b[0mget\u001b[0m\u001b[0;34m(\u001b[0m\u001b[0;34m'exists'\u001b[0m\u001b[0;34m,\u001b[0m \u001b[0;32mFalse\u001b[0m\u001b[0;34m)\u001b[0m\u001b[0;34m:\u001b[0m\u001b[0;34m\u001b[0m\u001b[0;34m\u001b[0m\u001b[0m\n\u001b[0;32m---> 53\u001b[0;31m     \u001b[0;32mraise\u001b[0m \u001b[0mSecretNotFoundError\u001b[0m\u001b[0;34m(\u001b[0m\u001b[0mkey\u001b[0m\u001b[0;34m)\u001b[0m\u001b[0;34m\u001b[0m\u001b[0;34m\u001b[0m\u001b[0m\n\u001b[0m\u001b[1;32m     54\u001b[0m   \u001b[0;32mif\u001b[0m \u001b[0;32mnot\u001b[0m \u001b[0mresp\u001b[0m\u001b[0;34m.\u001b[0m\u001b[0mget\u001b[0m\u001b[0;34m(\u001b[0m\u001b[0;34m'access'\u001b[0m\u001b[0;34m,\u001b[0m \u001b[0;32mFalse\u001b[0m\u001b[0;34m)\u001b[0m\u001b[0;34m:\u001b[0m\u001b[0;34m\u001b[0m\u001b[0;34m\u001b[0m\u001b[0m\n\u001b[1;32m     55\u001b[0m     \u001b[0;32mraise\u001b[0m \u001b[0mNotebookAccessError\u001b[0m\u001b[0;34m(\u001b[0m\u001b[0mkey\u001b[0m\u001b[0;34m)\u001b[0m\u001b[0;34m\u001b[0m\u001b[0;34m\u001b[0m\u001b[0m\n",
            "\u001b[0;31mSecretNotFoundError\u001b[0m: Secret secret_key does not exist."
          ]
        }
      ]
    },
    {
      "cell_type": "code",
      "source": [
        "for m in genai.list_models():\n",
        "  if 'generateContent' in m.supported_generation_methods:\n",
        "    print(m.name)"
      ],
      "metadata": {
        "colab": {
          "base_uri": "https://localhost:8080/",
          "height": 138
        },
        "id": "53PvgNhZFH6c",
        "outputId": "6559425f-8279-4f71-f1b1-8fcaaa355c92"
      },
      "execution_count": 6,
      "outputs": [
        {
          "output_type": "stream",
          "name": "stdout",
          "text": [
            "models/gemini-1.0-pro\n",
            "models/gemini-1.0-pro-001\n",
            "models/gemini-1.0-pro-latest\n",
            "models/gemini-1.0-pro-vision-latest\n",
            "models/gemini-1.5-pro-latest\n",
            "models/gemini-pro\n",
            "models/gemini-pro-vision\n"
          ]
        }
      ]
    },
    {
      "cell_type": "code",
      "source": [
        "generation_config = {\n",
        "    \"candidate_count\": 1,\n",
        "    \"temperature\": 0.5,\n",
        "}"
      ],
      "metadata": {
        "id": "HapoEdXjG3P7"
      },
      "execution_count": 14,
      "outputs": []
    },
    {
      "cell_type": "code",
      "source": [
        "safety_settings = {\n",
        "    \"HARASSMENT\": \"BLOCK_NONE\",\n",
        "    \"HATE\": \"BLOCK_NONE\",\n",
        "    \"SEXUAL\": \"BLOCK_NONE\",\n",
        "    \"DANGEROUS\": \"BLOCK_NONE\"\n",
        "}"
      ],
      "metadata": {
        "id": "A6R3W0tsHmt2"
      },
      "execution_count": 13,
      "outputs": []
    },
    {
      "cell_type": "markdown",
      "source": [
        "Inicializando o modelo\n"
      ],
      "metadata": {
        "id": "kJJAHCqGIlcC"
      }
    },
    {
      "cell_type": "code",
      "source": [
        "model = genai.GenerativeModel(model_name=\"gemini-1.0-pro\",\n",
        "generation_config=generation_config,\n",
        "safety_settings=safety_settings)"
      ],
      "metadata": {
        "id": "iOBzfJKkIoSd"
      },
      "execution_count": 16,
      "outputs": []
    },
    {
      "cell_type": "code",
      "source": [
        "response = model.generate_content(\"Vamos aprender conteúdo sobre IA. Me dê sugestões.\")\n",
        "print(response.text)"
      ],
      "metadata": {
        "colab": {
          "base_uri": "https://localhost:8080/",
          "height": 763
        },
        "id": "tSL7kDklJojR",
        "outputId": "282bc6a4-d66a-45e6-cda5-76ea67681d09"
      },
      "execution_count": 20,
      "outputs": [
        {
          "output_type": "stream",
          "name": "stdout",
          "text": [
            "**Conceitos Fundamentais**\n",
            "\n",
            "* O que é Inteligência Artificial (IA)?\n",
            "* Tipos de IA: Aprendizado de Máquina, Aprendizado Profundo, Processamento de Linguagem Natural\n",
            "* Algoritmos de IA: Regressão, Classificação, Clustering\n",
            "* Dados e Engenharia de Recursos\n",
            "* Avaliação de Modelos de IA\n",
            "\n",
            "**Aprendizado de Máquina**\n",
            "\n",
            "* Aprendizado Supervisionado: Regressão Linear, Regressão Logística, Árvores de Decisão\n",
            "* Aprendizado Não Supervisionado: K-Means, PCA, Análise de Componentes Independentes\n",
            "* Aprendizado por Reforço: Q-Learning, SARSA\n",
            "* Redes Neurais: Camadas, Ativações, Treinamento\n",
            "\n",
            "**Aprendizado Profundo**\n",
            "\n",
            "* Redes Neurais Convolucionais (CNNs)\n",
            "* Redes Neurais Recorrentes (RNNs)\n",
            "* Transformadores\n",
            "* Treinamento de Redes Neurais Profundas: Otimização, Regularização, Transferência de Aprendizado\n",
            "\n",
            "**Processamento de Linguagem Natural**\n",
            "\n",
            "* Processamento de Texto: Tokenização, Stemming, Lematização\n",
            "* Modelos de Linguagem: N-gramas, Modelos de Markov\n",
            "* Classificação de Texto: Análise de Sentimento, Detecção de Tópicos\n",
            "* Geração de Linguagem Natural: Seq2Seq, Transformers\n",
            "\n",
            "**Aplicações de IA**\n",
            "\n",
            "* Visão Computacional: Reconhecimento de Imagens, Detecção de Objetos\n",
            "* Processamento de Linguagem Natural: Chatbots, Tradução Automática\n",
            "* Cuidados de Saúde: Diagnóstico de Doenças, Previsão de Risco\n",
            "* Finanças: Detecção de Fraude, Previsão de Preços\n",
            "* Transporte: Veículos Autônomos, Otimização de Rotas\n",
            "\n",
            "**Ética e Implicações Sociais da IA**\n",
            "\n",
            "* Viés e Discriminação em Algoritmos de IA\n",
            "* Privacidade e Segurança de Dados\n",
            "* Impacto no Emprego e na Sociedade\n",
            "* Regulamentação e Governança da IA\n"
          ]
        }
      ]
    },
    {
      "cell_type": "code",
      "source": [
        "chat = model.start_chat(history=[])"
      ],
      "metadata": {
        "id": "uGZci1RQL8Uh"
      },
      "execution_count": 23,
      "outputs": []
    },
    {
      "cell_type": "code",
      "source": [
        "prompt = input(\"Esperando prompt: \")\n",
        "\n",
        "while prompt != \"fim\":\n",
        "  response = chat.send_message(prompt)\n",
        "  print(\"Resposta: \", response.text, \"\\n\")\n",
        "  prompt = input(\"Esperando prompt: \")"
      ],
      "metadata": {
        "colab": {
          "base_uri": "https://localhost:8080/",
          "height": 211
        },
        "id": "4fCnFCWCMe_Z",
        "outputId": "cae95d47-4721-45c0-98c1-9e648efb85a7"
      },
      "execution_count": 28,
      "outputs": [
        {
          "name": "stdout",
          "output_type": "stream",
          "text": [
            "Esperando prompt: qual a capital de SP\n",
            "Resposta:  **São Paulo** é a capital do estado de São Paulo. \n",
            "\n",
            "Esperando prompt: qual a população dessa cidade?\n",
            "Resposta:  De acordo com estimativas do IBGE para 2023, a população da cidade de **São Paulo** é de **12.396.192 habitantes**. \n",
            "\n",
            "Esperando prompt: e desse estado?\n",
            "Resposta:  De acordo com estimativas do IBGE para 2023, a população do estado de **São Paulo** é de **46.649.132 habitantes**. \n",
            "\n",
            "Esperando prompt: fim\n"
          ]
        }
      ]
    },
    {
      "cell_type": "code",
      "source": [
        "chat.history"
      ],
      "metadata": {
        "colab": {
          "base_uri": "https://localhost:8080/"
        },
        "id": "VZ1WbRR6PA-L",
        "outputId": "c4e21a2f-6381-4515-90bf-fc0440a983d0"
      },
      "execution_count": 29,
      "outputs": [
        {
          "output_type": "execute_result",
          "data": {
            "text/plain": [
              "[parts {\n",
              "   text: \"qual a temperatura atual em sP\"\n",
              " }\n",
              " role: \"user\",\n",
              " parts {\n",
              "   text: \"N\\303\\243o tenho acesso a informa\\303\\247\\303\\265es em tempo real, portanto, n\\303\\243o posso fornecer a temperatura atual em S\\303\\243o Paulo. Recomendo verificar a previs\\303\\243o do tempo em um site ou aplicativo confi\\303\\241vel para obter as informa\\303\\247\\303\\265es mais atualizadas.\"\n",
              " }\n",
              " role: \"model\",\n",
              " parts {\n",
              "   text: \"qual a comida tipica dessa cidade?\"\n",
              " }\n",
              " role: \"user\",\n",
              " parts {\n",
              "   text: \"**Comida T\\303\\255pica de S\\303\\243o Paulo**\\n\\n* **Virado \\303\\240 Paulista:** Feij\\303\\243o preto, arroz, couve, bisteca, ovo frito e banana \\303\\240 milanesa\\n* **Sandu\\303\\255che de Mortadela:** Sandu\\303\\255che no p\\303\\243o franc\\303\\252s com mortadela fatiada\\n* **Pastel:** Massa frita recheada com diversos sabores, como carne, queijo e palmito\\n* **Coxinha:** Massa de batata recheada com frango desfiado e coberta com farinha de rosca\\n* **P\\303\\243o com Bolinho:** P\\303\\243o franc\\303\\252s com bolinho de carne\\n* **Churrasco:** Carne grelhada, geralmente servida com arroz, feij\\303\\243o e farofa\\n* **Feijoada:** Ensopado de feij\\303\\243o preto com carnes de porco e boi\\n* **Cuscuz Paulista:** Cuscuz de milho com legumes e carne\\n* **Arroz \\303\\240 Piamontese:** Arroz com molho de tomate, carne mo\\303\\255da e queijo\\n* **Pizza:** Pizza de massa fina com diversos sabores, como mussarela, calabresa e portuguesa\\n* **Brigadeiro:** Docinho de chocolate feito com leite condensado, manteiga e chocolate em p\\303\\263\"\n",
              " }\n",
              " role: \"model\",\n",
              " parts {\n",
              "   text: \"qual a capital de SP\"\n",
              " }\n",
              " role: \"user\",\n",
              " parts {\n",
              "   text: \"**S\\303\\243o Paulo** \\303\\251 a capital do estado de S\\303\\243o Paulo.\"\n",
              " }\n",
              " role: \"model\",\n",
              " parts {\n",
              "   text: \"qual a popula\\303\\247\\303\\243o dessa cidade?\"\n",
              " }\n",
              " role: \"user\",\n",
              " parts {\n",
              "   text: \"De acordo com estimativas do IBGE para 2023, a popula\\303\\247\\303\\243o da cidade de **S\\303\\243o Paulo** \\303\\251 de **12.396.192 habitantes**.\"\n",
              " }\n",
              " role: \"model\",\n",
              " parts {\n",
              "   text: \"e desse estado?\"\n",
              " }\n",
              " role: \"user\",\n",
              " parts {\n",
              "   text: \"De acordo com estimativas do IBGE para 2023, a popula\\303\\247\\303\\243o do estado de **S\\303\\243o Paulo** \\303\\251 de **46.649.132 habitantes**.\"\n",
              " }\n",
              " role: \"model\"]"
            ]
          },
          "metadata": {},
          "execution_count": 29
        }
      ]
    },
    {
      "cell_type": "code",
      "source": [
        "#Melhorando a visualização\n",
        "#Código disponível em https://ai.google.dev/tutorials/python_quickstart#import_packages\n",
        "import textwrap\n",
        "from IPython.display import display\n",
        "from IPython.display import Markdown\n",
        "\n",
        "def to_markdown(text):\n",
        "  text = text.replace('•', '  *')\n",
        "  return Markdown(textwrap.indent(text, '> ', predicate=lambda _: True))\n",
        "\n",
        "#Imprimindo o histórico\n",
        "for message in chat.history:\n",
        "  display(to_markdown(f'**{message.role}**: {message.parts[0].text}'))\n",
        "  print('-------------------------------------------')"
      ],
      "metadata": {
        "colab": {
          "base_uri": "https://localhost:8080/",
          "height": 858
        },
        "id": "ocrZZcyjPHME",
        "outputId": "f015f631-ec56-47e2-fed0-71f733c478be"
      },
      "execution_count": 30,
      "outputs": [
        {
          "output_type": "display_data",
          "data": {
            "text/plain": [
              "<IPython.core.display.Markdown object>"
            ],
            "text/markdown": "> **user**: qual a temperatura atual em sP"
          },
          "metadata": {}
        },
        {
          "output_type": "stream",
          "name": "stdout",
          "text": [
            "-------------------------------------------\n"
          ]
        },
        {
          "output_type": "display_data",
          "data": {
            "text/plain": [
              "<IPython.core.display.Markdown object>"
            ],
            "text/markdown": "> **model**: Não tenho acesso a informações em tempo real, portanto, não posso fornecer a temperatura atual em São Paulo. Recomendo verificar a previsão do tempo em um site ou aplicativo confiável para obter as informações mais atualizadas."
          },
          "metadata": {}
        },
        {
          "output_type": "stream",
          "name": "stdout",
          "text": [
            "-------------------------------------------\n"
          ]
        },
        {
          "output_type": "display_data",
          "data": {
            "text/plain": [
              "<IPython.core.display.Markdown object>"
            ],
            "text/markdown": "> **user**: qual a comida tipica dessa cidade?"
          },
          "metadata": {}
        },
        {
          "output_type": "stream",
          "name": "stdout",
          "text": [
            "-------------------------------------------\n"
          ]
        },
        {
          "output_type": "display_data",
          "data": {
            "text/plain": [
              "<IPython.core.display.Markdown object>"
            ],
            "text/markdown": "> **model**: **Comida Típica de São Paulo**\n> \n> * **Virado à Paulista:** Feijão preto, arroz, couve, bisteca, ovo frito e banana à milanesa\n> * **Sanduíche de Mortadela:** Sanduíche no pão francês com mortadela fatiada\n> * **Pastel:** Massa frita recheada com diversos sabores, como carne, queijo e palmito\n> * **Coxinha:** Massa de batata recheada com frango desfiado e coberta com farinha de rosca\n> * **Pão com Bolinho:** Pão francês com bolinho de carne\n> * **Churrasco:** Carne grelhada, geralmente servida com arroz, feijão e farofa\n> * **Feijoada:** Ensopado de feijão preto com carnes de porco e boi\n> * **Cuscuz Paulista:** Cuscuz de milho com legumes e carne\n> * **Arroz à Piamontese:** Arroz com molho de tomate, carne moída e queijo\n> * **Pizza:** Pizza de massa fina com diversos sabores, como mussarela, calabresa e portuguesa\n> * **Brigadeiro:** Docinho de chocolate feito com leite condensado, manteiga e chocolate em pó"
          },
          "metadata": {}
        },
        {
          "output_type": "stream",
          "name": "stdout",
          "text": [
            "-------------------------------------------\n"
          ]
        },
        {
          "output_type": "display_data",
          "data": {
            "text/plain": [
              "<IPython.core.display.Markdown object>"
            ],
            "text/markdown": "> **user**: qual a capital de SP"
          },
          "metadata": {}
        },
        {
          "output_type": "stream",
          "name": "stdout",
          "text": [
            "-------------------------------------------\n"
          ]
        },
        {
          "output_type": "display_data",
          "data": {
            "text/plain": [
              "<IPython.core.display.Markdown object>"
            ],
            "text/markdown": "> **model**: **São Paulo** é a capital do estado de São Paulo."
          },
          "metadata": {}
        },
        {
          "output_type": "stream",
          "name": "stdout",
          "text": [
            "-------------------------------------------\n"
          ]
        },
        {
          "output_type": "display_data",
          "data": {
            "text/plain": [
              "<IPython.core.display.Markdown object>"
            ],
            "text/markdown": "> **user**: qual a população dessa cidade?"
          },
          "metadata": {}
        },
        {
          "output_type": "stream",
          "name": "stdout",
          "text": [
            "-------------------------------------------\n"
          ]
        },
        {
          "output_type": "display_data",
          "data": {
            "text/plain": [
              "<IPython.core.display.Markdown object>"
            ],
            "text/markdown": "> **model**: De acordo com estimativas do IBGE para 2023, a população da cidade de **São Paulo** é de **12.396.192 habitantes**."
          },
          "metadata": {}
        },
        {
          "output_type": "stream",
          "name": "stdout",
          "text": [
            "-------------------------------------------\n"
          ]
        },
        {
          "output_type": "display_data",
          "data": {
            "text/plain": [
              "<IPython.core.display.Markdown object>"
            ],
            "text/markdown": "> **user**: e desse estado?"
          },
          "metadata": {}
        },
        {
          "output_type": "stream",
          "name": "stdout",
          "text": [
            "-------------------------------------------\n"
          ]
        },
        {
          "output_type": "display_data",
          "data": {
            "text/plain": [
              "<IPython.core.display.Markdown object>"
            ],
            "text/markdown": "> **model**: De acordo com estimativas do IBGE para 2023, a população do estado de **São Paulo** é de **46.649.132 habitantes**."
          },
          "metadata": {}
        },
        {
          "output_type": "stream",
          "name": "stdout",
          "text": [
            "-------------------------------------------\n"
          ]
        }
      ]
    }
  ],
  "metadata": {
    "colab": {
      "name": "quickstart_colab.ipynb",
      "provenance": [],
      "include_colab_link": true
    },
    "kernelspec": {
      "display_name": "Python 3",
      "name": "python3"
    }
  },
  "nbformat": 4,
  "nbformat_minor": 0
}